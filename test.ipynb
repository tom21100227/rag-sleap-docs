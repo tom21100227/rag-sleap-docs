{
 "cells": [
  {
   "cell_type": "code",
   "execution_count": null,
   "id": "066f5177",
   "metadata": {},
   "outputs": [
    {
     "data": {
      "text/plain": [
       "AIMessage(content='I am using LangSmith for tracing, and I am using the V1 API.\\n', additional_kwargs={}, response_metadata={'is_blocked': False, 'safety_ratings': [], 'usage_metadata': {'prompt_token_count': 22, 'candidates_token_count': 18, 'total_token_count': 40, 'prompt_tokens_details': [{'modality': 1, 'token_count': 22}], 'candidates_tokens_details': [{'modality': 1, 'token_count': 18}], 'thoughts_token_count': 0, 'cached_content_token_count': 0, 'cache_tokens_details': []}, 'finish_reason': 'STOP', 'avg_logprobs': -0.0009736625684632196, 'model_name': 'gemini-2.0-flash-lite'}, id='run--68684279-28ca-4260-b58a-aefcfa262d42-0', usage_metadata={'input_tokens': 22, 'output_tokens': 18, 'total_tokens': 40, 'input_token_details': {'cache_read': 0}})"
      ]
     },
     "execution_count": 1,
     "metadata": {},
     "output_type": "execute_result"
    }
   ],
   "source": [
    "from dotenv import load_dotenv\n",
    "import os\n",
    "os.environ[\"LANGSMITH_TRACING\"] = \"true\"\n",
    "os.environ[\"LANGSMITH_ENDPOINT\"] = \"https://api.smith.langchain.com\"\n",
    "# Load environment variables from .local.env\n",
    "load_dotenv(\".local.env\")\n",
    "\n",
    "os.environ[\"LANGSMITH_API_KEY\"] = os.getenv(\"LANGSMITH_API_KEY\")\n",
    "os.environ[\"LANGSMITH_PROJECT\"] = os.getenv(\"LANGSMITH_PROJECT\", \"rag-sleap-docs\")\n",
    "\n",
    "import langchain\n",
    "import langchain_community\n",
    "import langchain_google_vertexai\n",
    "import chromadb\n",
    "import os\n",
    "\n",
    "# Sanity check: at this point I should be able to see the LangSmith configuration\n",
    "from langchain_google_vertexai import ChatVertexAI\n",
    "\n",
    "gemini = ChatVertexAI(\n",
    "    model_name=\"gemini-2.0-flash-lite\",\n",
    "    temperature=0.2)\n",
    "gemini.invoke(\"Repeat after me: 'I am using LangSmith for tracing, and I am using the V1 API.'\")"
   ]
  },
  {
   "cell_type": "code",
   "execution_count": null,
   "id": "fe72ea83",
   "metadata": {},
   "outputs": [],
   "source": []
  }
 ],
 "metadata": {
  "kernelspec": {
   "display_name": "langchain",
   "language": "python",
   "name": "python3"
  },
  "language_info": {
   "codemirror_mode": {
    "name": "ipython",
    "version": 3
   },
   "file_extension": ".py",
   "mimetype": "text/x-python",
   "name": "python",
   "nbconvert_exporter": "python",
   "pygments_lexer": "ipython3",
   "version": "3.12.11"
  }
 },
 "nbformat": 4,
 "nbformat_minor": 5
}
